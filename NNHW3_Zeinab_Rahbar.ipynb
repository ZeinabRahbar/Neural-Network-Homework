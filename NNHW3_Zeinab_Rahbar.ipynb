{
 "cells": [
  {
   "cell_type": "markdown",
   "id": "e1e1d282",
   "metadata": {},
   "source": [
    "# Question 1"
   ]
  },
  {
   "cell_type": "code",
   "execution_count": 1,
   "id": "f845ffff",
   "metadata": {},
   "outputs": [],
   "source": [
    "import numpy as np\n",
    "import matplotlib as plt \n",
    "import matplotlib.image as img"
   ]
  },
  {
   "cell_type": "code",
   "execution_count": 2,
   "id": "fc0d5694",
   "metadata": {},
   "outputs": [],
   "source": [
    "class Conv2D:\n",
    "    def __init__(self,kernel_size,kernel_num,stride):\n",
    "        self.kernel_size = kernel_size\n",
    "        self.kernel_num = kernel_num\n",
    "        self.kernel = np.random.randn(kernel_size,kernel_size,kernel_num)\n",
    "        self.w = self.kernel\n",
    "        self.b = np.ones([1,kernel_num])\n",
    "        self.stride = stride\n",
    "        \n",
    "    def forward(self,input_tensor):\n",
    "        \n",
    "        #ADDING APPROPRIATE PADDING\n",
    "        \n",
    "        pad = int((self.kernel_size-1)/2)\n",
    "        self.input = input_tensor\n",
    "        self.padded_input = np.pad(input_tensor,\n",
    "                                   pad_width=((pad,pad),(pad,pad),(0,0)))\n",
    "        img_h,img_w,img_c = np.array(self.input).shape\n",
    "        conv_output = np.zeros((img_h,img_w,self.kernel_num))\n",
    "\n",
    "        for c in range(self.kernel_num):\n",
    "            for h in range(img_h):\n",
    "                if h%self.stride==0:     #ADDING STRIDE PART\n",
    "                    for w in range(img_w):\n",
    "                        if w%self.stride == 0:  #ADDING APPROPRIATE STRIDE\n",
    "                            #USING APPROPRIATE PADDED INPUT\n",
    "                            patch = self.padded_input[h:h + self.kernel_size,\n",
    "                                                      w:w + self.kernel_size,:]\n",
    "                            kernel = self.kernel[:,:,c].reshape((self.kernel_size,\n",
    "                                                                self.kernel_size,\n",
    "                                                                1))\n",
    "                            conv_output[h,w,c] = np.sum(patch*kernel)+self.b[0][c]\n",
    "        \n",
    "        self.output = conv_output\n",
    "        \n",
    "    def backward(self,b_input):\n",
    "        self.b_output = np.zeros(snp.array(elf.input).shape)\n",
    "        img_h,img_w,img_c = np.array(self.input).shape\n",
    "        for h in range(img_h):\n",
    "            if h%self.stride==0:   #ADDING STRIDE PART\n",
    "                for w in range(img_w):\n",
    "                    if w%self.stride==0:  #ADDING APPROPRIATE STRIDE\n",
    "                    \n",
    "                        patch = self.padded_input[h:h + self.kernel_size,\n",
    "                                                  w:w + self.kernel_size,:]\n",
    "                        for c in range(img_c):                        \n",
    "                            self.b_output[h,w,c] = np.sum(patch*np.sum(b_input[h,w,:]))"
   ]
  },
  {
   "cell_type": "code",
   "execution_count": 3,
   "id": "c502bfba",
   "metadata": {},
   "outputs": [
    {
     "name": "stdout",
     "output_type": "stream",
     "text": [
      "kernel_size = 3\n",
      "stride = 2\n"
     ]
    }
   ],
   "source": [
    "kernel_size = int(input(\"kernel_size = \"))\n",
    "stride = int(input(\"stride = \"))\n",
    "Layer = Conv2D(kernel_size,8,stride)"
   ]
  },
  {
   "cell_type": "markdown",
   "id": "b77fb7ed",
   "metadata": {},
   "source": [
    "# Question2"
   ]
  },
  {
   "cell_type": "code",
   "execution_count": 4,
   "id": "e9a96e08",
   "metadata": {},
   "outputs": [
    {
     "name": "stdout",
     "output_type": "stream",
     "text": [
      "(1600, 2507, 3)\n"
     ]
    }
   ],
   "source": [
    "image = img.imread('kittens.JPEG')\n",
    "print(np.shape(image))"
   ]
  },
  {
   "cell_type": "code",
   "execution_count": 5,
   "id": "1fb729a1",
   "metadata": {},
   "outputs": [],
   "source": [
    "class Dense:\n",
    "    def __init__(self,n_inputs,n_neurons):\n",
    "        self.w = np.random.randn(n_inputs,n_neurons)   #w\n",
    "        self.b = np.ones([1,n_neurons])    #b\n",
    "        self.weight_history = 0\n",
    "        self.bias_history = 0\n",
    "    \n",
    "    def forward(self,inputs):\n",
    "        self.input = inputs  #p\n",
    "        self.output = np.dot(inputs,self.w)+self.b\n",
    "    \n",
    "    def backward(self,b_input):\n",
    "        self.b_output = np.dot(b_input,self.w.T)\n",
    "        self.g_w = np.dot(self.input.T,b_input)\n",
    "        self.g_b = np.sum(b_input,axis=0,keepdims=True)"
   ]
  },
  {
   "cell_type": "code",
   "execution_count": 6,
   "id": "a8a180fe",
   "metadata": {},
   "outputs": [],
   "source": [
    "class ReLU:\n",
    "    def __init__(self):\n",
    "        pass\n",
    "    \n",
    "    def forward(self,inputs):\n",
    "        self.output = np.maximum(0,inputs)\n",
    "        self.input = inputs\n",
    "    \n",
    "    def backward(self,b_input):\n",
    "        self.b_output = b_input\n",
    "        self.b_output[self.input<=0] = 0"
   ]
  },
  {
   "cell_type": "code",
   "execution_count": 7,
   "id": "2f65fcbc",
   "metadata": {},
   "outputs": [],
   "source": [
    "class Softmax:\n",
    "\n",
    "    def forward(self,inputs):\n",
    "        neuron_output = np.exp(inputs-np.max(inputs,axis=1,keepdims=True))\n",
    "        self.output = neuron_output/np.sum(neuron_output,axis = 1,keepdims=True)\n",
    "    \n",
    "    def backward(self,b_input):\n",
    "        self.b_output = b_input\n",
    "        for i , (item1 , item2) in enumerate(zip(self.output,b_input)):\n",
    "            item1 = item1.reshape(-1,1)\n",
    "            #sd means softmax derivative\n",
    "            sd = np.diagflat(item1)-np.dot(item1,item1.T)\n",
    "            #if j=k: S_j-(S_j)^2\n",
    "            #if j!=k: 0-(S_j)*(S_k)\n",
    "            self.b_output[i] = np.dot(sd,item2)"
   ]
  },
  {
   "cell_type": "code",
   "execution_count": 8,
   "id": "d1fdd2b8",
   "metadata": {},
   "outputs": [
    {
     "name": "stdout",
     "output_type": "stream",
     "text": [
      "(1600, 2507, 4)\n"
     ]
    }
   ],
   "source": [
    "Layer1 = Conv2D(3,4,1)\n",
    "Act1 = ReLU()\n",
    "\n",
    "Layer1.forward(image)\n",
    "Act1.forward(Layer1.output)\n",
    "\n",
    "print(np.shape(Act1.output))\n",
    "\n"
   ]
  },
  {
   "cell_type": "code",
   "execution_count": 9,
   "id": "c514d2fb",
   "metadata": {},
   "outputs": [
    {
     "name": "stderr",
     "output_type": "stream",
     "text": [
      "Clipping input data to the valid range for imshow with RGB data ([0..1] for floats or [0..255] for integers).\n"
     ]
    },
    {
     "data": {
      "text/plain": [
       "<matplotlib.image.AxesImage at 0x22fb78b1670>"
      ]
     },
     "execution_count": 9,
     "metadata": {},
     "output_type": "execute_result"
    },
    {
     "data": {
      "image/png": "[encoded data removed]",
      "text/plain": [
       "<Figure size 640x480 with 1 Axes>"
      ]
     },
     "metadata": {},
     "output_type": "display_data"
    }
   ],
   "source": [
    "import matplotlib.pyplot as plt \n",
    "plt.imshow(Act1.output)"
   ]
  },
  {
   "cell_type": "markdown",
   "id": "3bd4738a",
   "metadata": {},
   "source": [
    "# Question 3"
   ]
  },
  {
   "cell_type": "code",
   "execution_count": 10,
   "id": "a1534388",
   "metadata": {},
   "outputs": [],
   "source": [
    "class MaxPoolND:\n",
    "    def __init__(self, window_size, stride):\n",
    "        self.window_size = window_size\n",
    "        self.stride = stride\n",
    "        \n",
    "    \n",
    "    # A Max Pooling layer using a pool size of 2.\n",
    "    def iterate_regions(self, image):\n",
    "        '''\n",
    "        Generates non-overlapping self.window_size * self.window_size  image regions to pool over.\n",
    "        - image is a 2d numpy array\n",
    "        '''\n",
    "        h, w, _ = image.shape\n",
    "        new_h = h // self.window_size \n",
    "        new_w = w // self.window_size \n",
    "\n",
    "        for i in range(new_h):\n",
    "            for j in range(new_w):\n",
    "                im_region = image[(i * self.window_size ):(i * self.window_size  + self.window_size ), (j * self.window_size ):(j * self.window_size + self.window_size)]\n",
    "                yield im_region, i, j\n",
    "\n",
    "    def forward(self, input):\n",
    "        '''\n",
    "        Performs a forward pass of the maxpool layer using the given input.\n",
    "        Returns a 3d numpy array with dimensions (h / self.window_size , w / self.window_size , num_filters).\n",
    "        - input is a 3d numpy array with dimensions (h, w, num_filters)\n",
    "        '''\n",
    "        self.last_input = input\n",
    "\n",
    "        h, w, num_filters = input.shape\n",
    "        output = np.zeros((h // self.window_size, w // self.window_size, num_filters))\n",
    "\n",
    "        for im_region, i, j in self.iterate_regions(input):\n",
    "            if i%self.stride == 0 and j%self.stride ==0:\n",
    "                output[i, j] = np.amax(im_region, axis=(0, 1))\n",
    "\n",
    "        self.output = output\n",
    "\n",
    "    def backward(self, d_L_d_out):\n",
    "        '''\n",
    "        Performs a backward pass of the maxpool layer.\n",
    "        Returns the loss gradient for this layer's inputs.\n",
    "        - d_L_d_out is the loss gradient for this layer's outputs.\n",
    "        '''\n",
    "        d_L_d_input = np.zeros(self.last_input.shape)\n",
    "\n",
    "        for im_region, i, j in self.iterate_regions(self.last_input):\n",
    "            h, w, f = im_region.shape\n",
    "            amax = np.amax(im_region, axis=(0, 1))\n",
    "\n",
    "            for i2 in range(h):\n",
    "                for j2 in range(w):\n",
    "                    for f2 in range(f):\n",
    "                        if i2%self.stride == 0 and j2%self.stride ==0:\n",
    "                            # If this pixel was the max value, copy the gradient to it.\n",
    "                            if im_region[i2, j2, f2] == amax[f2]:\n",
    "                                d_L_d_input[i * self.window_size + i2, j * self.window_size + j2, f2] = d_L_d_out[i, j, f2]\n",
    "\n",
    "        self.b_output =  d_L_d_input"
   ]
  },
  {
   "cell_type": "code",
   "execution_count": 11,
   "id": "2f8cc0c0",
   "metadata": {},
   "outputs": [
    {
     "name": "stdout",
     "output_type": "stream",
     "text": [
      "stride = 1\n",
      "win_size = 2\n"
     ]
    },
    {
     "data": {
      "text/plain": [
       "<__main__.MaxPoolND at 0x22fb7a75e50>"
      ]
     },
     "execution_count": 11,
     "metadata": {},
     "output_type": "execute_result"
    }
   ],
   "source": [
    "stride = input(\"stride = \")\n",
    "win_size = input(\"win_size = \")\n",
    "MaxPoolND(win_size,stride)"
   ]
  },
  {
   "cell_type": "markdown",
   "id": "d2506596",
   "metadata": {},
   "source": [
    "# Question 4"
   ]
  },
  {
   "cell_type": "code",
   "execution_count": 12,
   "id": "ccb39f48",
   "metadata": {},
   "outputs": [],
   "source": [
    "Layer1 = Conv2D(3,8,1)\n",
    "Act1 = ReLU()\n",
    "\n",
    "Layer2 = Conv2D(5,16,1)\n",
    "Act2 = ReLU()\n",
    "\n",
    "Layer3 = MaxPoolND(2,2)\n",
    "\n",
    "Layer4 = Conv2D(3,8,1)\n",
    "Act4 = ReLU()\n",
    "\n",
    "#chegal layer\n",
    "Layer5 = Dense(8,64)\n",
    "Act5 = ReLU()\n",
    "\n",
    "\n",
    "#chegal layer\n",
    "Layer6 = Dense(64,1)\n",
    "Act6 = Softmax()\n"
   ]
  },
  {
   "cell_type": "code",
   "execution_count": 13,
   "id": "4394d51c",
   "metadata": {},
   "outputs": [],
   "source": [
    "class Categorical_Cross_Entropy_loss:\n",
    "    def __init__(self):\n",
    "        pass\n",
    "    def forward(self,softmax_output,class_label):\n",
    "        softmax_output = np.clip(softmax_output,0.000001,0.999999)\n",
    "        cc = np.sum(softmax_output*class_label,axis=1)\n",
    "        return np.sum(-np.log(cc)).reshape(-1)\n",
    "    \n",
    "    def backward(self,softmax_output,class_label):\n",
    "        self.b_output = -class_label/softmax_output"
   ]
  },
  {
   "cell_type": "code",
   "execution_count": 14,
   "id": "c63ef26b",
   "metadata": {},
   "outputs": [],
   "source": [
    "Loss = Categorical_Cross_Entropy_loss()\n"
   ]
  },
  {
   "cell_type": "markdown",
   "id": "c23cb3e5",
   "metadata": {},
   "source": [
    "# Question 5"
   ]
  },
  {
   "cell_type": "code",
   "execution_count": 15,
   "id": "975470d3",
   "metadata": {},
   "outputs": [],
   "source": [
    "import numpy as np\n",
    "import pandas as pd\n",
    "import matplotlib as plt \n",
    "import matplotlib.image as img\n",
    "from matplotlib.image import imread\n"
   ]
  },
  {
   "cell_type": "code",
   "execution_count": 16,
   "id": "c5a5c60b",
   "metadata": {},
   "outputs": [],
   "source": [
    "def get_image():\n",
    "    imag = []\n",
    "    label = []\n",
    "    \n",
    "    for k in range(5):\n",
    "        k = k+1\n",
    "        img = imread(f'usps_{k}.JPG')\n",
    "\n",
    "        for i in range(34):\n",
    "            for j in range(33):\n",
    "                m = img[i * 16:(i + 1) * 16, j * 16:(j + 1) * 16]\n",
    "                if not (j == 32 and i >= 12):\n",
    "                    imag.append(m)\n",
    "                    label.append(k)\n",
    "\n",
    "    return imag,label"
   ]
  },
  {
   "cell_type": "code",
   "execution_count": 17,
   "id": "258369e2",
   "metadata": {},
   "outputs": [],
   "source": [
    "x_train,y_train = get_image()"
   ]
  },
  {
   "cell_type": "code",
   "execution_count": 18,
   "id": "75f08502",
   "metadata": {},
   "outputs": [],
   "source": [
    "from sklearn.utils import shuffle\n",
    "x_train, y_train = shuffle(x_train, y_train, random_state=0)"
   ]
  },
  {
   "cell_type": "code",
   "execution_count": 20,
   "id": "d95b596a",
   "metadata": {},
   "outputs": [
    {
     "name": "stdout",
     "output_type": "stream",
     "text": [
      "(2750, 8, 8)\n",
      "accuracy for epoch0:0.025\n"
     ]
    },
    {
     "name": "stderr",
     "output_type": "stream",
     "text": [
      "C:\\Users\\Ansar9811291\\AppData\\Local\\Temp\\ipykernel_10720\\3521203319.py:10: RuntimeWarning: divide by zero encountered in true_divide\n",
      "  self.b_output = -class_label/softmax_output\n"
     ]
    },
    {
     "ename": "ValueError",
     "evalue": "shapes (2750,8,5500) and (1,64) not aligned: 5500 (dim 2) != 1 (dim 0)",
     "output_type": "error",
     "traceback": [
      "\u001b[1;31m---------------------------------------------------------------------------\u001b[0m",
      "\u001b[1;31mValueError\u001b[0m                                Traceback (most recent call last)",
      "Cell \u001b[1;32mIn [20], line 29\u001b[0m\n\u001b[0;32m     26\u001b[0m Loss\u001b[38;5;241m.\u001b[39mbackward(Act6\u001b[38;5;241m.\u001b[39moutput,y_train)\n\u001b[0;32m     28\u001b[0m Act6\u001b[38;5;241m.\u001b[39mbackward(Loss\u001b[38;5;241m.\u001b[39mb_output)\n\u001b[1;32m---> 29\u001b[0m Layer6\u001b[38;5;241m.\u001b[39mbackward(Act6\u001b[38;5;241m.\u001b[39mb_output)\n\u001b[0;32m     31\u001b[0m Act5\u001b[38;5;241m.\u001b[39mbackward(Loss\u001b[38;5;241m.\u001b[39mb_output)\n\u001b[0;32m     32\u001b[0m Layer5\u001b[38;5;241m.\u001b[39mbackward(Act5\u001b[38;5;241m.\u001b[39mb_output)\n",
      "Cell \u001b[1;32mIn [5], line 13\u001b[0m, in \u001b[0;36mDense.backward\u001b[1;34m(self, b_input)\u001b[0m\n\u001b[0;32m     12\u001b[0m \u001b[38;5;28;01mdef\u001b[39;00m \u001b[38;5;21mbackward\u001b[39m(\u001b[38;5;28mself\u001b[39m,b_input):\n\u001b[1;32m---> 13\u001b[0m     \u001b[38;5;28mself\u001b[39m\u001b[38;5;241m.\u001b[39mb_output \u001b[38;5;241m=\u001b[39m \u001b[43mnp\u001b[49m\u001b[38;5;241;43m.\u001b[39;49m\u001b[43mdot\u001b[49m\u001b[43m(\u001b[49m\u001b[43mb_input\u001b[49m\u001b[43m,\u001b[49m\u001b[38;5;28;43mself\u001b[39;49m\u001b[38;5;241;43m.\u001b[39;49m\u001b[43mw\u001b[49m\u001b[38;5;241;43m.\u001b[39;49m\u001b[43mT\u001b[49m\u001b[43m)\u001b[49m\n\u001b[0;32m     14\u001b[0m     \u001b[38;5;28mself\u001b[39m\u001b[38;5;241m.\u001b[39mg_w \u001b[38;5;241m=\u001b[39m np\u001b[38;5;241m.\u001b[39mdot(\u001b[38;5;28mself\u001b[39m\u001b[38;5;241m.\u001b[39minput\u001b[38;5;241m.\u001b[39mT,b_input)\n\u001b[0;32m     15\u001b[0m     \u001b[38;5;28mself\u001b[39m\u001b[38;5;241m.\u001b[39mg_b \u001b[38;5;241m=\u001b[39m np\u001b[38;5;241m.\u001b[39msum(b_input,axis\u001b[38;5;241m=\u001b[39m\u001b[38;5;241m0\u001b[39m,keepdims\u001b[38;5;241m=\u001b[39m\u001b[38;5;28;01mTrue\u001b[39;00m)\n",
      "File \u001b[1;32m<__array_function__ internals>:5\u001b[0m, in \u001b[0;36mdot\u001b[1;34m(*args, **kwargs)\u001b[0m\n",
      "\u001b[1;31mValueError\u001b[0m: shapes (2750,8,5500) and (1,64) not aligned: 5500 (dim 2) != 1 (dim 0)"
     ]
    }
   ],
   "source": [
    "for i in range(10):\n",
    "    Layer1.forward(x_train)\n",
    "    Act1.forward(Layer1.output)\n",
    "\n",
    "    Layer2.forward(Act1.output)\n",
    "    Act2.forward(Layer2.output)\n",
    "\n",
    "    Layer3.forward(Act2.output) #reshape(-1,1) equals flattening\n",
    "\n",
    "    Layer4.forward(Layer3.output)\n",
    "    Act4.forward(Layer4.output)\n",
    "    \n",
    "    print(np.shape(Act4.output))\n",
    "    \n",
    "    Layer5.forward(Act4.output) #reshape(-1,1) equals flattening\n",
    "    Act5.forward(Layer5.output)\n",
    "\n",
    "    Layer6.forward(Act5.output) #reshape(-1,1) equals flattening\n",
    "    Act6.forward(Layer6.output)\n",
    "\n",
    "    Loss.forward(Act6.output,y_train)\n",
    "    \n",
    "    print('accuracy for epoch'+str(i)+\":\"+ str(np.mean(y_train == Act6.output)))\n",
    "\n",
    "    y_train = np.array(y_train)\n",
    "    Loss.backward(Act6.output,y_train)\n",
    "    \n",
    "    Act6.backward(Loss.b_output)\n",
    "    Layer6.backward(Act6.b_output)\n",
    "    \n",
    "    Act5.backward(Loss.b_output)\n",
    "    Layer5.backward(Act5.b_output)\n",
    "\n",
    "    Act4.backward(Loss.b_output)\n",
    "    Layer4.backward(Act4.b_output)\n",
    "\n",
    "    Layer3.backward(Act4.b_output)\n",
    "\n",
    "    Act2.backward(Layer3.b_output.reshape(50,40,-1)) #reshape(h,w,-1)\n",
    "    Layer2.backward(Act2.b_output)\n",
    "\n",
    "    Act1.backward(Layer2.b_output.reshape(50,40,-1)) #reshape(h,w,-1)\n",
    "    Layer1.backward(Act1.b_output)\n"
   ]
  },
  {
   "cell_type": "code",
   "execution_count": 21,
   "id": "63a231e0",
   "metadata": {},
   "outputs": [
    {
     "name": "stdout",
     "output_type": "stream",
     "text": [
      "(2750, 8, 8)\n",
      "accuracy for epoch0:0.025\n"
     ]
    },
    {
     "name": "stderr",
     "output_type": "stream",
     "text": [
      "C:\\Users\\Ansar9811291\\AppData\\Local\\Temp\\ipykernel_10720\\3521203319.py:10: RuntimeWarning: divide by zero encountered in true_divide\n",
      "  self.b_output = -class_label/softmax_output\n"
     ]
    },
    {
     "ename": "ValueError",
     "evalue": "shapes (2750,8,5500) and (1,64) not aligned: 5500 (dim 2) != 1 (dim 0)",
     "output_type": "error",
     "traceback": [
      "\u001b[1;31m---------------------------------------------------------------------------\u001b[0m",
      "\u001b[1;31mValueError\u001b[0m                                Traceback (most recent call last)",
      "Cell \u001b[1;32mIn [21], line 29\u001b[0m\n\u001b[0;32m     26\u001b[0m Loss\u001b[38;5;241m.\u001b[39mbackward(Act6\u001b[38;5;241m.\u001b[39moutput,y_train)\n\u001b[0;32m     28\u001b[0m Act6\u001b[38;5;241m.\u001b[39mbackward(Loss\u001b[38;5;241m.\u001b[39mb_output)\n\u001b[1;32m---> 29\u001b[0m Layer6\u001b[38;5;241m.\u001b[39mbackward(Act6\u001b[38;5;241m.\u001b[39mb_output)\n\u001b[0;32m     31\u001b[0m Act5\u001b[38;5;241m.\u001b[39mbackward(Loss\u001b[38;5;241m.\u001b[39mb_output)\n\u001b[0;32m     32\u001b[0m Layer5\u001b[38;5;241m.\u001b[39mbackward(Act5\u001b[38;5;241m.\u001b[39mb_output)\n",
      "Cell \u001b[1;32mIn [5], line 13\u001b[0m, in \u001b[0;36mDense.backward\u001b[1;34m(self, b_input)\u001b[0m\n\u001b[0;32m     12\u001b[0m \u001b[38;5;28;01mdef\u001b[39;00m \u001b[38;5;21mbackward\u001b[39m(\u001b[38;5;28mself\u001b[39m,b_input):\n\u001b[1;32m---> 13\u001b[0m     \u001b[38;5;28mself\u001b[39m\u001b[38;5;241m.\u001b[39mb_output \u001b[38;5;241m=\u001b[39m \u001b[43mnp\u001b[49m\u001b[38;5;241;43m.\u001b[39;49m\u001b[43mdot\u001b[49m\u001b[43m(\u001b[49m\u001b[43mb_input\u001b[49m\u001b[43m,\u001b[49m\u001b[38;5;28;43mself\u001b[39;49m\u001b[38;5;241;43m.\u001b[39;49m\u001b[43mw\u001b[49m\u001b[38;5;241;43m.\u001b[39;49m\u001b[43mT\u001b[49m\u001b[43m)\u001b[49m\n\u001b[0;32m     14\u001b[0m     \u001b[38;5;28mself\u001b[39m\u001b[38;5;241m.\u001b[39mg_w \u001b[38;5;241m=\u001b[39m np\u001b[38;5;241m.\u001b[39mdot(\u001b[38;5;28mself\u001b[39m\u001b[38;5;241m.\u001b[39minput\u001b[38;5;241m.\u001b[39mT,b_input)\n\u001b[0;32m     15\u001b[0m     \u001b[38;5;28mself\u001b[39m\u001b[38;5;241m.\u001b[39mg_b \u001b[38;5;241m=\u001b[39m np\u001b[38;5;241m.\u001b[39msum(b_input,axis\u001b[38;5;241m=\u001b[39m\u001b[38;5;241m0\u001b[39m,keepdims\u001b[38;5;241m=\u001b[39m\u001b[38;5;28;01mTrue\u001b[39;00m)\n",
      "File \u001b[1;32m<__array_function__ internals>:5\u001b[0m, in \u001b[0;36mdot\u001b[1;34m(*args, **kwargs)\u001b[0m\n",
      "\u001b[1;31mValueError\u001b[0m: shapes (2750,8,5500) and (1,64) not aligned: 5500 (dim 2) != 1 (dim 0)"
     ]
    }
   ],
   "source": [
    "for i in range(1):\n",
    "    Layer1.forward(x_train)\n",
    "    Act1.forward(Layer1.output)\n",
    "\n",
    "    Layer2.forward(Act1.output)\n",
    "    Act2.forward(Layer2.output)\n",
    "\n",
    "    Layer3.forward(Act2.output) #reshape(-1,1) equals flattening\n",
    "\n",
    "    Layer4.forward(Layer3.output)\n",
    "    Act4.forward(Layer4.output)\n",
    "    \n",
    "    print(np.shape(Act4.output))\n",
    "    \n",
    "    Layer5.forward(Act4.output) #reshape(-1,1) equals flattening\n",
    "    Act5.forward(Layer5.output)\n",
    "\n",
    "    Layer6.forward(Act5.output) #reshape(-1,1) equals flattening\n",
    "    Act6.forward(Layer6.output)\n",
    "\n",
    "    Loss.forward(Act6.output,y_train)\n",
    "    \n",
    "    print('accuracy for epoch'+str(i)+\":\"+ str(np.mean(y_train == Act6.output)))\n",
    "\n",
    "    y_train = np.array(y_train)\n",
    "    Loss.backward(Act6.output,y_train)\n",
    "    \n",
    "    Act6.backward(Loss.b_output)\n",
    "    Layer6.backward(Act6.b_output)\n",
    "    \n",
    "    Act5.backward(Loss.b_output)\n",
    "    Layer5.backward(Act5.b_output)\n",
    "\n",
    "    Act4.backward(Loss.b_output)\n",
    "    Layer4.backward(Act4.b_output)\n",
    "\n",
    "    Layer3.backward(Act4.b_output)\n",
    "\n",
    "    Act2.backward(Layer3.b_output.reshape(50,40,-1)) #reshape(h,w,-1)\n",
    "    Layer2.backward(Act2.b_output)\n",
    "\n",
    "    Act1.backward(Layer2.b_output.reshape(50,40,-1)) #reshape(h,w,-1)\n",
    "    Layer1.backward(Act1.b_output)\n"
   ]
  }
 ],
 "metadata": {
  "kernelspec": {
   "display_name": "Python 3 (ipykernel)",
   "language": "python",
   "name": "python3"
  },
  "language_info": {
   "codemirror_mode": {
    "name": "ipython",
    "version": 3
   },
   "file_extension": ".py",
   "mimetype": "text/x-python",
   "name": "python",
   "nbconvert_exporter": "python",
   "pygments_lexer": "ipython3",
   "version": "3.9.1"
  }
 },
 "nbformat": 4,
 "nbformat_minor": 5
}
